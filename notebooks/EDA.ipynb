{
 "cells": [
  {
   "cell_type": "markdown",
   "metadata": {},
   "source": [
    "In this notebook, we will explore the anime datasets and perform data analysis. "
   ]
  },
  {
   "cell_type": "markdown",
   "metadata": {},
   "source": [
    "## Anime Dataset Description\n",
    "\n",
    "- **anime_id**: Unique ID for each anime.\n",
    "- **Name**: The name of the anime in its original language.\n",
    "- **English name**: The English name of the anime.\n",
    "- **Other name**: Native name or title of the anime (can be in Japanese, Chinese, or Korean).\n",
    "- **Score**: The score or rating given to the anime.\n",
    "- **Genres**: The genres of the anime, separated by commas.\n",
    "- **Synopsis**: A brief description or summary of the anime's plot.\n",
    "- **Type**: The type of the anime (e.g., TV series, movie, OVA, etc.).\n",
    "- **Episodes**: The number of episodes in the anime.\n",
    "- **Aired**: The dates when the anime was aired.\n",
    "- **Premiered**: The season and year when the anime premiered.\n",
    "- **Status**: The status of the anime (e.g., Finished Airing, Currently Airing, etc.).\n",
    "- **Producers**: The production companies or producers of the anime.\n",
    "- **Licensors**: The licensors of the anime (e.g., streaming platforms).\n",
    "- **Studios**: The animation studios that worked on the anime.\n",
    "- **Source**: The source material of the anime (e.g., manga, light novel, original).\n",
    "- **Duration**: The duration of each episode.\n",
    "- **Rating**: The age rating of the anime.\n",
    "- **Rank**: The rank of the anime based on popularity or other criteria.\n",
    "- **Popularity**: The popularity rank of the anime.\n",
    "- **Favorites**: The number of times the anime was marked as a favorite by users.\n",
    "- **Scored By**: The number of users who scored the anime.\n",
    "- **Members**: The number of members who have added the anime to their list on the platform.\n",
    "- **Image URL**: The URL of the anime's image or poster.\n",
    "\n",
    "## User-Anime Ratings Dataset Description\n",
    "\n",
    "- **user_id**: Unique ID for each user.\n",
    "- **Username**: The username of the user.\n",
    "- **anime_id**: Unique ID for each anime.\n",
    "- **Anime Title**: The title of the anime.\n",
    "- **rating**: The rating given by the user to the anime."
   ]
  },
  {
   "cell_type": "code",
   "execution_count": 2,
   "metadata": {},
   "outputs": [],
   "source": [
    "# import zipfile\n",
    "# import os\n",
    "\n",
    "# zip_file_path = '/home/karthikponna/kittu/Anime Recommendation system-MLops/Mlops-Anime-Recommendation-System/datasets/archive.zip'\n",
    "# destination_folder = '/home/karthikponna/kittu/Anime Recommendation system-MLops/Mlops-Anime-Recommendation-System/datasets'\n",
    "\n",
    "# with zipfile.ZipFile(zip_file_path, 'r') as zip_ref:\n",
    "#     file_names = zip_ref.namelist()\n",
    "#     csv_files = [file for file in file_names if file.endswith('.csv')]\n",
    "#     for file in csv_files:\n",
    "#         file_name = os.path.basename(file)\n",
    "#         destination_path = os.path.join(destination_folder, file_name)\n",
    "#         with open(destination_path, 'wb') as f:\n",
    "#             f.write(zip_ref.read(file))\n",
    "# print(\"CSV files extracted successfully.\")"
   ]
  },
  {
   "cell_type": "code",
   "execution_count": 4,
   "metadata": {},
   "outputs": [
    {
     "data": {
      "text/html": [
       "        <script type=\"text/javascript\">\n",
       "        window.PlotlyConfig = {MathJaxConfig: 'local'};\n",
       "        if (window.MathJax && window.MathJax.Hub && window.MathJax.Hub.Config) {window.MathJax.Hub.Config({SVG: {font: \"STIX-Web\"}});}\n",
       "        if (typeof require !== 'undefined') {\n",
       "        require.undef(\"plotly\");\n",
       "        requirejs.config({\n",
       "            paths: {\n",
       "                'plotly': ['https://cdn.plot.ly/plotly-2.35.2.min']\n",
       "            }\n",
       "        });\n",
       "        require(['plotly'], function(Plotly) {\n",
       "            window._Plotly = Plotly;\n",
       "        });\n",
       "        }\n",
       "        </script>\n",
       "        "
      ]
     },
     "metadata": {},
     "output_type": "display_data"
    }
   ],
   "source": [
    "# Reading Dataset\n",
    "import numpy as np\n",
    "import pandas as pd\n",
    "# Visualization\n",
    "import plotly.express as px\n",
    "import plotly.graph_objects as go  # for 3D plot visualization\n",
    "import plotly.figure_factory as ff\n",
    "from plotly.offline import init_notebook_mode, iplot\n",
    "init_notebook_mode(connected=True)\n",
    "import matplotlib.pyplot as plt\n",
    "import seaborn as sns\n",
    "from wordcloud import WordCloud\n",
    "# from langdetect import detect\n",
    "from datetime import datetime"
   ]
  },
  {
   "cell_type": "code",
   "execution_count": 5,
   "metadata": {},
   "outputs": [
    {
     "name": "stdout",
     "output_type": "stream",
     "text": [
      "Shape of the Dataset: (24905, 18)\n"
     ]
    },
    {
     "data": {
      "text/html": [
       "<div>\n",
       "<style scoped>\n",
       "    .dataframe tbody tr th:only-of-type {\n",
       "        vertical-align: middle;\n",
       "    }\n",
       "\n",
       "    .dataframe tbody tr th {\n",
       "        vertical-align: top;\n",
       "    }\n",
       "\n",
       "    .dataframe thead th {\n",
       "        text-align: right;\n",
       "    }\n",
       "</style>\n",
       "<table border=\"1\" class=\"dataframe\">\n",
       "  <thead>\n",
       "    <tr style=\"text-align: right;\">\n",
       "      <th></th>\n",
       "      <th>0</th>\n",
       "      <th>1</th>\n",
       "      <th>2</th>\n",
       "    </tr>\n",
       "  </thead>\n",
       "  <tbody>\n",
       "    <tr>\n",
       "      <th>anime_id</th>\n",
       "      <td>1</td>\n",
       "      <td>5</td>\n",
       "      <td>6</td>\n",
       "    </tr>\n",
       "    <tr>\n",
       "      <th>name</th>\n",
       "      <td>Cowboy Bebop</td>\n",
       "      <td>Cowboy Bebop: Tengoku no Tobira</td>\n",
       "      <td>Trigun</td>\n",
       "    </tr>\n",
       "    <tr>\n",
       "      <th>average_rating</th>\n",
       "      <td>8.75</td>\n",
       "      <td>8.38</td>\n",
       "      <td>8.22</td>\n",
       "    </tr>\n",
       "    <tr>\n",
       "      <th>genres</th>\n",
       "      <td>Action, Award Winning, Sci-Fi</td>\n",
       "      <td>Action, Sci-Fi</td>\n",
       "      <td>Action, Adventure, Sci-Fi</td>\n",
       "    </tr>\n",
       "    <tr>\n",
       "      <th>overview</th>\n",
       "      <td>Crime is timeless. By the year 2071, humanity ...</td>\n",
       "      <td>Another day, another bounty—such is the life o...</td>\n",
       "      <td>Vash the Stampede is the man with a $$60,000,0...</td>\n",
       "    </tr>\n",
       "    <tr>\n",
       "      <th>type</th>\n",
       "      <td>TV</td>\n",
       "      <td>Movie</td>\n",
       "      <td>TV</td>\n",
       "    </tr>\n",
       "    <tr>\n",
       "      <th>episodes</th>\n",
       "      <td>26</td>\n",
       "      <td>1</td>\n",
       "      <td>26</td>\n",
       "    </tr>\n",
       "    <tr>\n",
       "      <th>producers</th>\n",
       "      <td>Bandai Visual</td>\n",
       "      <td>Sunrise, Bandai Visual</td>\n",
       "      <td>Victor Entertainment</td>\n",
       "    </tr>\n",
       "    <tr>\n",
       "      <th>licensors</th>\n",
       "      <td>Funimation, Bandai Entertainment</td>\n",
       "      <td>Sony Pictures Entertainment</td>\n",
       "      <td>Funimation, Geneon Entertainment USA</td>\n",
       "    </tr>\n",
       "    <tr>\n",
       "      <th>studios</th>\n",
       "      <td>Sunrise</td>\n",
       "      <td>Bones</td>\n",
       "      <td>Madhouse</td>\n",
       "    </tr>\n",
       "    <tr>\n",
       "      <th>source</th>\n",
       "      <td>Original</td>\n",
       "      <td>Original</td>\n",
       "      <td>Manga</td>\n",
       "    </tr>\n",
       "    <tr>\n",
       "      <th>anime_rating</th>\n",
       "      <td>R - 17+ (violence &amp; profanity)</td>\n",
       "      <td>R - 17+ (violence &amp; profanity)</td>\n",
       "      <td>PG-13 - Teens 13 or older</td>\n",
       "    </tr>\n",
       "    <tr>\n",
       "      <th>rank</th>\n",
       "      <td>41</td>\n",
       "      <td>189</td>\n",
       "      <td>328</td>\n",
       "    </tr>\n",
       "    <tr>\n",
       "      <th>popularity</th>\n",
       "      <td>43</td>\n",
       "      <td>602</td>\n",
       "      <td>246</td>\n",
       "    </tr>\n",
       "    <tr>\n",
       "      <th>favorites</th>\n",
       "      <td>78525</td>\n",
       "      <td>1448</td>\n",
       "      <td>15035</td>\n",
       "    </tr>\n",
       "    <tr>\n",
       "      <th>scored by</th>\n",
       "      <td>914193</td>\n",
       "      <td>206248</td>\n",
       "      <td>356739</td>\n",
       "    </tr>\n",
       "    <tr>\n",
       "      <th>members</th>\n",
       "      <td>1771505</td>\n",
       "      <td>360978</td>\n",
       "      <td>727252</td>\n",
       "    </tr>\n",
       "    <tr>\n",
       "      <th>image url</th>\n",
       "      <td>https://cdn.myanimelist.net/images/anime/4/196...</td>\n",
       "      <td>https://cdn.myanimelist.net/images/anime/1439/...</td>\n",
       "      <td>https://cdn.myanimelist.net/images/anime/7/203...</td>\n",
       "    </tr>\n",
       "  </tbody>\n",
       "</table>\n",
       "</div>"
      ],
      "text/plain": [
       "                                                                0  \\\n",
       "anime_id                                                        1   \n",
       "name                                                 Cowboy Bebop   \n",
       "average_rating                                               8.75   \n",
       "genres                              Action, Award Winning, Sci-Fi   \n",
       "overview        Crime is timeless. By the year 2071, humanity ...   \n",
       "type                                                           TV   \n",
       "episodes                                                       26   \n",
       "producers                                           Bandai Visual   \n",
       "licensors                        Funimation, Bandai Entertainment   \n",
       "studios                                                   Sunrise   \n",
       "source                                                   Original   \n",
       "anime_rating                       R - 17+ (violence & profanity)   \n",
       "rank                                                           41   \n",
       "popularity                                                     43   \n",
       "favorites                                                   78525   \n",
       "scored by                                                  914193   \n",
       "members                                                   1771505   \n",
       "image url       https://cdn.myanimelist.net/images/anime/4/196...   \n",
       "\n",
       "                                                                1  \\\n",
       "anime_id                                                        5   \n",
       "name                              Cowboy Bebop: Tengoku no Tobira   \n",
       "average_rating                                               8.38   \n",
       "genres                                             Action, Sci-Fi   \n",
       "overview        Another day, another bounty—such is the life o...   \n",
       "type                                                        Movie   \n",
       "episodes                                                        1   \n",
       "producers                                  Sunrise, Bandai Visual   \n",
       "licensors                             Sony Pictures Entertainment   \n",
       "studios                                                     Bones   \n",
       "source                                                   Original   \n",
       "anime_rating                       R - 17+ (violence & profanity)   \n",
       "rank                                                          189   \n",
       "popularity                                                    602   \n",
       "favorites                                                    1448   \n",
       "scored by                                                  206248   \n",
       "members                                                    360978   \n",
       "image url       https://cdn.myanimelist.net/images/anime/1439/...   \n",
       "\n",
       "                                                                2  \n",
       "anime_id                                                        6  \n",
       "name                                                       Trigun  \n",
       "average_rating                                               8.22  \n",
       "genres                                  Action, Adventure, Sci-Fi  \n",
       "overview        Vash the Stampede is the man with a $$60,000,0...  \n",
       "type                                                           TV  \n",
       "episodes                                                       26  \n",
       "producers                                    Victor Entertainment  \n",
       "licensors                    Funimation, Geneon Entertainment USA  \n",
       "studios                                                  Madhouse  \n",
       "source                                                      Manga  \n",
       "anime_rating                            PG-13 - Teens 13 or older  \n",
       "rank                                                          328  \n",
       "popularity                                                    246  \n",
       "favorites                                                   15035  \n",
       "scored by                                                  356739  \n",
       "members                                                    727252  \n",
       "image url       https://cdn.myanimelist.net/images/anime/7/203...  "
      ]
     },
     "execution_count": 5,
     "metadata": {},
     "output_type": "execute_result"
    }
   ],
   "source": [
    "pd.set_option('display.max_columns', 50)\n",
    "df_anime=pd.read_csv('/home/karthikponna/kittu/Anime Recommendation system-MLops/Mlops-Anime-Recommendation-System/datasets/anime-dataset-2023.csv')\n",
    "print(\"Shape of the Dataset:\",df_anime.shape)\n",
    "df_anime.head(3).T"
   ]
  },
  {
   "cell_type": "code",
   "execution_count": 6,
   "metadata": {},
   "outputs": [
    {
     "ename": "",
     "evalue": "",
     "output_type": "error",
     "traceback": [
      "\u001b[1;31mThe Kernel crashed while executing code in the current cell or a previous cell. \n",
      "\u001b[1;31mPlease review the code in the cell(s) to identify a possible cause of the failure. \n",
      "\u001b[1;31mClick <a href='https://aka.ms/vscodeJupyterKernelCrash'>here</a> for more info. \n",
      "\u001b[1;31mView Jupyter <a href='command:jupyter.viewOutput'>log</a> for further details."
     ]
    }
   ],
   "source": [
    "df_score=pd.read_csv('/home/karthikponna/kittu/Anime Recommendation system-MLops/Mlops-Anime-Recommendation-System/datasets/users-score-2023.csv')\n",
    "print(\"Shape of the dataset:\",df_score.shape)"
   ]
  },
  {
   "cell_type": "code",
   "execution_count": null,
   "metadata": {},
   "outputs": [],
   "source": [
    "df_score.rename(columns={'Username':'username','Anime Title':\"name\"},inplace=True)\n",
    "df_score.head()"
   ]
  },
  {
   "cell_type": "markdown",
   "metadata": {},
   "source": [
    "# Explorartory Data Analysis"
   ]
  },
  {
   "cell_type": "markdown",
   "metadata": {},
   "source": [
    "## Data Exploration"
   ]
  },
  {
   "cell_type": "markdown",
   "metadata": {},
   "source": [
    "#### Checking each dataframes\n",
    "In order to gain a better understanding of the data, it is important to examine each DataFrame individually. This includes assessing its structure and identifying any missing values. We will begin this process by using the info() method, which provides a comprehensive overview of the DataFrame's columns and structure."
   ]
  },
  {
   "cell_type": "code",
   "execution_count": null,
   "metadata": {},
   "outputs": [],
   "source": [
    "df_anime.info()"
   ]
  },
  {
   "cell_type": "code",
   "execution_count": null,
   "metadata": {},
   "outputs": [],
   "source": [
    "df_anime['average_rating'].value_counts()"
   ]
  },
  {
   "cell_type": "code",
   "execution_count": null,
   "metadata": {},
   "outputs": [],
   "source": [
    "average_rating = df_anime['average_rating'][df_anime['average_rating'] != 'UNKNOWN']\n",
    "average_rating = average_rating.astype('float')\n",
    "average_rating_mean= round(average_rating.mean() , 2)"
   ]
  },
  {
   "cell_type": "code",
   "execution_count": null,
   "metadata": {},
   "outputs": [],
   "source": [
    "df_anime['average_rating'] = df_anime['average_rating'].replace('UNKNOWN', average_rating_mean)\n",
    "df_anime['average_rating'] = df_anime['average_rating'].astype('float64')"
   ]
  }
 ],
 "metadata": {
  "kernelspec": {
   "display_name": "ARS",
   "language": "python",
   "name": "python3"
  },
  "language_info": {
   "codemirror_mode": {
    "name": "ipython",
    "version": 3
   },
   "file_extension": ".py",
   "mimetype": "text/x-python",
   "name": "python",
   "nbconvert_exporter": "python",
   "pygments_lexer": "ipython3",
   "version": "3.12.3"
  }
 },
 "nbformat": 4,
 "nbformat_minor": 2
}
